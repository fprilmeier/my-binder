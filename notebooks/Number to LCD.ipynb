{
 "cells": [
  {
   "cell_type": "markdown",
   "id": "096d4968-95f7-4660-9fad-7f442d410642",
   "metadata": {},
   "source": [
    "# [Number to LCD](https://codingdojo.org/kata/NumberToLCD/)\n",
    "\n",
    "**Do not read part 2 before completing part 1!**"
   ]
  },
  {
   "cell_type": "markdown",
   "id": "f441c918-f457-4261-8e8c-05f49e4d29dc",
   "metadata": {},
   "source": [
    "## Part 1"
   ]
  },
  {
   "cell_type": "markdown",
   "id": "51345109-5e80-40f1-a61b-d1c082d20df9",
   "metadata": {},
   "source": [
    "**Goal:** Given a number (with an arbitrary number of digits), convert it into LCD style numbers using the following format:\n",
    "\n",
    "       _  _     _  _  _  _  _  \n",
    "     | _| _||_||_ |_   ||_||_|  \n",
    "     ||_  _|  | _||_|  ||_| _|  \n",
    "\n",
    "(Each digit is three lines high, and three characters wide.)\n",
    "\n",
    "Take care to start simple and choose tests wisely in order to have a nice TDD progression…"
   ]
  },
  {
   "cell_type": "code",
   "execution_count": null,
   "id": "561a75e5-4e12-4663-9929-0b5cda627bad",
   "metadata": {},
   "outputs": [],
   "source": []
  },
  {
   "cell_type": "markdown",
   "id": "4c3f0abf-3342-4f1b-8ca5-f2ae7455e6c1",
   "metadata": {
    "jp-MarkdownHeadingCollapsed": true,
    "tags": []
   },
   "source": [
    "## Part 2\n",
    "\n",
    "Complete Part 1 before moving on to Part 2, as part of the purpose of this kata is to make you practice refactoring and adapting to changing requirements."
   ]
  },
  {
   "cell_type": "markdown",
   "id": "2df42977-ef89-40c2-a672-7165d657e9f1",
   "metadata": {},
   "source": [
    "Now, modify your code to support *variable* width or height of the digits. Determine what width and height would represent the digits in [Part 1](#Part-1), and how that should translate into the width and height that would make the digit 5 (for example) look like this:\n",
    "\n",
    "     ___\n",
    "    |\n",
    "    |___\n",
    "        |\n",
    "     ___|"
   ]
  },
  {
   "cell_type": "code",
   "execution_count": null,
   "id": "6fee4dc9-f154-44ef-b7c6-3c1e212c2216",
   "metadata": {},
   "outputs": [],
   "source": []
  }
 ],
 "metadata": {
  "kernelspec": {
   "display_name": "Python 3",
   "language": "python",
   "name": "python3"
  },
  "language_info": {
   "codemirror_mode": {
    "name": "ipython",
    "version": 3
   },
   "file_extension": ".py",
   "mimetype": "text/x-python",
   "name": "python",
   "nbconvert_exporter": "python",
   "pygments_lexer": "ipython3",
   "version": "3.8.10"
  },
  "widgets": {
   "application/vnd.jupyter.widget-state+json": {
    "state": {},
    "version_major": 2,
    "version_minor": 0
   }
  }
 },
 "nbformat": 4,
 "nbformat_minor": 5
}

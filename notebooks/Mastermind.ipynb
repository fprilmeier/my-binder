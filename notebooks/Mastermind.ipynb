{
 "cells": [
  {
   "cell_type": "markdown",
   "metadata": {},
   "source": [
    "# [Mastermind](https://codingdojo.org/kata/Mastermind/)\n",
    "***Difficulty:** Medium*\n",
    "\n",
    "Have you ever played [Mastermind](https://en.wikipedia.org/wiki/Mastermind_(board_game))? This is a game where one player, a *codemaker*, has to choose a secret combination of colored pegs and then get someone else, a *codebreaker* to make guesses. The codemaker answers each guess attempt of the codebreaker by indicating *only* the number of well placed colors and the number of correct but misplaced colors.\n",
    "\n",
    "If you remember playing the game, being the one who guesses is very brain demanding, whereas the other player gets bored rapidly."
   ]
  },
  {
   "cell_type": "markdown",
   "metadata": {},
   "source": [
    "## Problem Description\n",
    "The idea of this Kata is to code an algorithm capable of playing this boring role: answering a guess with the number of well placed and misplaced colors.\n",
    "\n",
    "Therefore, your function should return, for a secret and a guessing combination:\n",
    "\n",
    "- the number of well placed colors\n",
    "- the number of correct but misplaced colors\n",
    "\n",
    "A combination can contain any number of pegs but you’d better give the same number for the secret and the guessing. You can use any number of colors."
   ]
  },
  {
   "cell_type": "markdown",
   "metadata": {},
   "source": [
    "## Clues\n",
    "\n",
    "- It’s better to start by detecting well placed colors.\n",
    "- Detecting misplaced colors is about counting them…\n"
   ]
  },
  {
   "cell_type": "markdown",
   "metadata": {},
   "source": [
    "## Suggested Test Cases\n",
    "\n",
    "For a secret `[blue, red, green, pink]` and a guess `[yellow, red, blue, purple]` the answer should be : 1 well placed and 1 misplaced.\n",
    "\n",
    "Some other basic examples:\n",
    "\n",
    "    evaluate([blue], [red]) should return [0, 0]  \n",
    "    evaluate([blue], [blue]) should return [1, 0]  \n",
    "    evaluate([red, yellow], [blue, red]) should return [0, 1]  \n",
    "\n",
    "Take care to start simple and choose wisely the tests in order to have a nice TDD progression…"
   ]
  },
  {
   "cell_type": "markdown",
   "metadata": {},
   "source": [
    "## Colors\n",
    "\n",
    "Use the following color enumeration, or not, as you wish!"
   ]
  },
  {
   "cell_type": "code",
   "execution_count": null,
   "metadata": {},
   "outputs": [],
   "source": [
    "from enum import Enum, auto\n",
    "\n",
    "\n",
    "class Color(Enum):\n",
    "    pink = auto()\n",
    "    red = auto()\n",
    "    orange = auto()\n",
    "    yellow = auto()\n",
    "    green = auto()\n",
    "    blue = auto()\n",
    "    purple = auto()"
   ]
  },
  {
   "cell_type": "markdown",
   "metadata": {},
   "source": [
    "## Your Implementation\n",
    "\n",
    "Feel free to replace this boilerplate with your own preferred style."
   ]
  },
  {
   "cell_type": "code",
   "execution_count": null,
   "metadata": {},
   "outputs": [],
   "source": [
    "def evaluate(secret, guess):\n",
    "    \"\"\"\n",
    "    Evaluate a guess against the secret\n",
    "    \"\"\"\n",
    "    pass"
   ]
  },
  {
   "cell_type": "markdown",
   "metadata": {},
   "source": [
    "## Unit Tests\n",
    "\n",
    "Implement unit tests however you like. The default here, will run [doctest](https://docs.python.org/3/library/doctest.html) which looks for tests in docstrings."
   ]
  },
  {
   "cell_type": "code",
   "execution_count": null,
   "metadata": {},
   "outputs": [],
   "source": [
    "import doctest\n",
    "\n",
    "results = doctest.testmod(verbose=True, report=False)"
   ]
  },
  {
   "cell_type": "code",
   "execution_count": null,
   "metadata": {},
   "outputs": [],
   "source": [
    "assert results.failed == 0, \"Test failed!\""
   ]
  },
  {
   "cell_type": "code",
   "execution_count": null,
   "metadata": {},
   "outputs": [],
   "source": [
    "assert results.attempted >= 4, \"Missing test!\""
   ]
  },
  {
   "cell_type": "markdown",
   "metadata": {},
   "source": [
    "# Next\n",
    "Now that you've written and tested your `evaluate()` function, how about coding an actual game you can play?\n",
    "- Generate a four color secret\n",
    "- get user input\n",
    "- use your `evaluate()` function to check until the correct guess is made.\n",
    "\n",
    "## Hints\n",
    "\n",
    "- The secret should not have any duplicate colors. There's a standard module function that can help you make your secret!"
   ]
  },
  {
   "cell_type": "code",
   "execution_count": null,
   "metadata": {},
   "outputs": [],
   "source": [
    "import"
   ]
  }
 ],
 "metadata": {
  "kernelspec": {
   "display_name": "Python 3",
   "language": "python",
   "name": "python3"
  },
  "language_info": {
   "codemirror_mode": {
    "name": "ipython",
    "version": 3
   },
   "file_extension": ".py",
   "mimetype": "text/x-python",
   "name": "python",
   "nbconvert_exporter": "python",
   "pygments_lexer": "ipython3",
   "version": "3.8.10"
  },
  "toc-autonumbering": false,
  "toc-showcode": false,
  "toc-showmarkdowntxt": false,
  "widgets": {
   "application/vnd.jupyter.widget-state+json": {
    "state": {},
    "version_major": 2,
    "version_minor": 0
   }
  }
 },
 "nbformat": 4,
 "nbformat_minor": 4
}
